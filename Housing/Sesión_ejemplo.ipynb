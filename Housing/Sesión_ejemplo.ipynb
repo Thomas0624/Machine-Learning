{
  "nbformat": 4,
  "nbformat_minor": 0,
  "metadata": {
    "colab": {
      "private_outputs": true,
      "provenance": []
    },
    "kernelspec": {
      "name": "python3",
      "display_name": "Python 3"
    },
    "language_info": {
      "name": "python"
    }
  },
  "cells": [
    {
      "cell_type": "markdown",
      "source": [
        "<p align=\"center\">\n",
        "<FONT FACE=\"times new roman\" SIZE=5>\n",
        "<br>\n",
        "<i><b>Docente:</b> Ricardo Ándres Fonseca Perdomo.</i>\n",
        "<br>\n",
        "<i><b>Asignatura:</b> Aprendizaje de máquina</i>\n",
        "<br>\n",
        "<i><b>Estudiante:</b> Chiara Valenzuela</i>\n",
        "<br>\n",
        "<i><b>Tema:</b> Trabajo en clase</i>\n",
        "<br>\n",
        "<i>20/03/24</i>\n",
        "</FONT>\n",
        "</p>"
      ],
      "metadata": {
        "id": "j42fTIa-mdap"
      }
    },
    {
      "cell_type": "markdown",
      "source": [
        "\n",
        "### Importaciones"
      ],
      "metadata": {
        "id": "v_-ld-v4oofe"
      }
    },
    {
      "cell_type": "code",
      "execution_count": null,
      "metadata": {
        "id": "bdfojp0TmcGj"
      },
      "outputs": [],
      "source": [
        "import sys\n",
        "assert sys.version_info >= (3, 7)\n",
        "\n",
        "from packaging import version\n",
        "import sklearn\n",
        "assert version.parse(sklearn.__version__) >= version.parse(\"1.0.1\")\n",
        "\n",
        "from pathlib import Path\n",
        "import pandas as pd\n",
        "import tarfile\n",
        "import urllib.request\n",
        "import matplotlib.pyplot as plt\n",
        "import numpy as np\n",
        "from zlib import crc32\n",
        "from sklearn.model_selection import train_test_split, StratifiedShuffleSplit\n",
        "from scipy.stats import binom\n",
        "from pandas.plotting import scatter_matrix\n",
        "from sklearn.impute import SimpleImputer\n",
        "from sklearn.preprocessing import OrdinalEncoder, OneHotEncoder"
      ]
    },
    {
      "cell_type": "markdown",
      "source": [
        "## Clase 1"
      ],
      "metadata": {
        "id": "csi4ae81P2h8"
      }
    },
    {
      "cell_type": "code",
      "source": [
        "def load_dataset_url():\n",
        "    tarball_path = Path('datasets/housing.tgz')\n",
        "    if not tarball_path.is_file():\n",
        "        Path(\"datasets\").mkdir(parents=True,exist_ok=True)\n",
        "        url = 'https://github.com/ageron/data/raw/main/housing.tgz'\n",
        "        urllib.request.urlretrieve(url, tarball_path)\n",
        "        with tarfile.open(tarball_path) as housing_tarball:\n",
        "            housing_tarball.extractall(path=\"datasets\")\n",
        "    return pd.read_csv(\"datasets/housing/housing.csv\")\n",
        "\n",
        "dt = load_dataset_url()"
      ],
      "metadata": {
        "id": "FAw4F_5xoWQd"
      },
      "execution_count": null,
      "outputs": []
    },
    {
      "cell_type": "code",
      "source": [
        "dt.info()"
      ],
      "metadata": {
        "id": "IHfQQhx7eEuK"
      },
      "execution_count": null,
      "outputs": []
    },
    {
      "cell_type": "code",
      "source": [
        "dt['ocean_proximity'].value_counts()"
      ],
      "metadata": {
        "id": "r_XNMoymevtq"
      },
      "execution_count": null,
      "outputs": []
    },
    {
      "cell_type": "code",
      "source": [
        "dt.describe()"
      ],
      "metadata": {
        "id": "Ukj3HU-IgLS7"
      },
      "execution_count": null,
      "outputs": []
    },
    {
      "cell_type": "code",
      "source": [
        "plt.rc('font', size = 12)\n",
        "plt.rc('axes', labelsize = 12, titlesize = 12)\n",
        "plt.rc('legend', fontsize = 14)\n",
        "plt.rc('xtick', labelsize = 10)\n",
        "plt.rc('ytick', labelsize = 10)"
      ],
      "metadata": {
        "id": "fOX68YhPgiDq"
      },
      "execution_count": null,
      "outputs": []
    },
    {
      "cell_type": "code",
      "source": [
        "IMAGES_PATH = Path() / \"images\" / \"images_bar_housing\"\n",
        "IMAGES_PATH.mkdir(parents=True, exist_ok= True)\n",
        "\n",
        "def save_fig(fig_id, tight_layout = True, fig_extension = \"jpg\", resolution = 300):\n",
        "    path =  IMAGES_PATH / f\"{fig_id}.{fig_extension}\"\n",
        "    if tight_layout:\n",
        "        plt.tight_layout()\n",
        "    plt.savefig(path, format = fig_extension, dpi = resolution)"
      ],
      "metadata": {
        "id": "Rjz9ry5SkAkt"
      },
      "execution_count": null,
      "outputs": []
    },
    {
      "cell_type": "code",
      "source": [
        "dt.hist(bins = 100, figsize = (15, 7))\n",
        "save_fig(\"Grafica atributos housing (Histograma)\")\n",
        "plt.show()"
      ],
      "metadata": {
        "id": "pjHGFbp5icoD"
      },
      "execution_count": null,
      "outputs": []
    },
    {
      "cell_type": "code",
      "source": [
        "def shuffle_and_split(dt, test_radio):\n",
        "    shuffle_indices = np.random.permutation(len(dt))\n",
        "    test_set_size = int(len(dt) * test_radio)\n",
        "    test_indices = shuffle_indices[:test_set_size]\n",
        "    train_indices = shuffle_indices[test_set_size:]\n",
        "    return dt.iloc[train_indices], dt.iloc[test_indices]"
      ],
      "metadata": {
        "id": "JyC16Dk4mW0M"
      },
      "execution_count": null,
      "outputs": []
    },
    {
      "cell_type": "code",
      "source": [
        "train_set, test_set = shuffle_and_split(dt, 0.3)"
      ],
      "metadata": {
        "id": "8dANzb0Sn5Q0"
      },
      "execution_count": null,
      "outputs": []
    },
    {
      "cell_type": "code",
      "source": [
        "print(len(train_set), len(test_set))"
      ],
      "metadata": {
        "id": "_E9qh74moJ8s"
      },
      "execution_count": null,
      "outputs": []
    },
    {
      "cell_type": "code",
      "source": [
        "np.random.seed(42)"
      ],
      "metadata": {
        "id": "TBKj7WU3oqNR"
      },
      "execution_count": null,
      "outputs": []
    },
    {
      "cell_type": "code",
      "source": [
        "def is_id_in_test(identifier, test_radio):\n",
        "    return crc32(np.int64(identifier)) < test_radio * 2**32"
      ],
      "metadata": {
        "id": "TW9K92tvo1Xg"
      },
      "execution_count": null,
      "outputs": []
    },
    {
      "cell_type": "code",
      "source": [
        "def split_data_with_id_hash(dt, test_radio, id_column):\n",
        "    ids = dt[id_column]\n",
        "    in_test_set = ids.apply(lambda id_: is_id_in_test(id_, test_radio))\n",
        "    return dt.loc[~in_test_set], dt.loc[in_test_set]"
      ],
      "metadata": {
        "id": "7EixFYzpqW4l"
      },
      "execution_count": null,
      "outputs": []
    },
    {
      "cell_type": "code",
      "source": [
        "data_with_id = dt.reset_index()\n",
        "train_set, test_set = split_data_with_id_hash(data_with_id, 0.3, \"index\")"
      ],
      "metadata": {
        "id": "3Pztt1NNr5RD"
      },
      "execution_count": null,
      "outputs": []
    },
    {
      "cell_type": "code",
      "source": [
        "data_with_id[\"id\"] = dt['longitude']*1000 + dt['latitude']\n",
        "train_set, test_set = split_data_with_id_hash(data_with_id, 0.3, \"id\")"
      ],
      "metadata": {
        "id": "JhJq3A2CsLuh"
      },
      "execution_count": null,
      "outputs": []
    },
    {
      "cell_type": "markdown",
      "source": [
        "### Ejercicio\n",
        "\n",
        "<p>\n",
        "Muestre los resultados de las 2 celdas anteriores y concluya como s cambiaron los datos de entrenamiento y test.\n",
        "</p>"
      ],
      "metadata": {
        "id": "AYsfm4QBsq5J"
      }
    },
    {
      "cell_type": "markdown",
      "source": [
        "Después de dividir los datos utilizando diferentes métodos de identificación, los conjuntos de datos de entrenamiento y prueba cambian.\n",
        "\n",
        "En el primer método, donde se utiliza el índice como identificador, la división es aleatoria y no hay relación entre las instancias y su identificador. Por lo tanto, el histograma del conjunto de datos de entrenamiento no muestra ningún patrón particular.\n",
        "\n",
        "En el segundo conjunto de operaciones, se crea un nuevo identificador id basado en la longitud y latitud de las instancias. Luego, se aplica split_data_with_id_hash utilizando este nuevo identificador. Esto puede conducir a una división donde las instancias que están geográficamente cerca pueden terminar en el mismo conjunto (ya sea de entrenamiento o prueba). Esta división basada en la ubicación geográfica puede ser útil si se espera que exista alguna correlación espacial en los datos, por ejemplo, si las casas cercanas tienden a tener características similares."
      ],
      "metadata": {
        "id": "PHKbx7n7ukia"
      }
    },
    {
      "cell_type": "markdown",
      "source": [
        "## Clase 2"
      ],
      "metadata": {
        "id": "ORgLIIZ1K8wK"
      }
    },
    {
      "cell_type": "code",
      "source": [
        "train_set, test_set = train_test_split(dt, test_size=0.3, random_state=42)"
      ],
      "metadata": {
        "id": "2Ba6gq5pKR4x"
      },
      "execution_count": null,
      "outputs": []
    },
    {
      "cell_type": "code",
      "source": [
        "train_set.head()"
      ],
      "metadata": {
        "id": "1FDsHf5aRFZJ"
      },
      "execution_count": null,
      "outputs": []
    },
    {
      "cell_type": "code",
      "source": [
        "test_set['total_bedrooms'].isnull().sum()"
      ],
      "metadata": {
        "id": "9YzowQNMRyDm"
      },
      "execution_count": null,
      "outputs": []
    },
    {
      "cell_type": "code",
      "source": [
        "sample_size = 1000\n",
        "ratio_female = 0.511\n",
        "prob_too_small = binom(sample_size, ratio_female).cdf(485 - 1)\n",
        "prob_too_large = binom(sample_size, ratio_female).cdf(535)\n",
        "\n",
        "print(prob_too_large + prob_too_small)"
      ],
      "metadata": {
        "id": "OvA20t3rSNCo"
      },
      "execution_count": null,
      "outputs": []
    },
    {
      "cell_type": "code",
      "source": [
        "np.random.seed(42)"
      ],
      "metadata": {
        "id": "wvv23kteTn_Q"
      },
      "execution_count": null,
      "outputs": []
    },
    {
      "cell_type": "code",
      "source": [
        "samples = (np.random.rand(100_000, sample_size) < ratio_female).sum(axis=1)\n",
        "((samples < 485) | (samples > 535)).mean()"
      ],
      "metadata": {
        "id": "-5mq65KCUHOG"
      },
      "execution_count": null,
      "outputs": []
    },
    {
      "cell_type": "code",
      "source": [
        "dt['income_category'] = pd.cut(dt['median_income'],\n",
        "                               bins= [0., 1.5, 3.0, 4.5, 6., np.inf],\n",
        "                               labels = [1, 2, 3, 4, 5])"
      ],
      "metadata": {
        "id": "VrYiuDOqU8GS"
      },
      "execution_count": null,
      "outputs": []
    },
    {
      "cell_type": "code",
      "source": [
        "dt.head()"
      ],
      "metadata": {
        "id": "hoJUqUWVWLUM"
      },
      "execution_count": null,
      "outputs": []
    },
    {
      "cell_type": "code",
      "source": [
        "dt['income_category'].value_counts().sort_index().plot.bar(rot = 0, grid = True)\n",
        "plt.xlabel('Income category')\n",
        "save_fig('Income category')\n",
        "plt.show()"
      ],
      "metadata": {
        "id": "OKnHBHa2WiZl"
      },
      "execution_count": null,
      "outputs": []
    },
    {
      "cell_type": "code",
      "source": [
        "splitter = StratifiedShuffleSplit(n_splits=10, test_size= 0.3, random_state= 42)\n",
        "stratified_split = []\n",
        "\n",
        "for train_index, test_index in splitter.split(dt, dt['income_category']):\n",
        "    stratified_train_set_n = dt.iloc[train_index]\n",
        "    stratified_test_set_n = dt.iloc[test_index]\n",
        "    stratified_split.append([stratified_train_set_n, stratified_test_set_n])\n",
        "\n",
        "stratified_split[0]"
      ],
      "metadata": {
        "id": "L9gsPfIPXptO"
      },
      "execution_count": null,
      "outputs": []
    },
    {
      "cell_type": "code",
      "source": [
        "stratified_train_set, stratified_test_set = stratified_split[0]"
      ],
      "metadata": {
        "id": "xI39fwFvZaTg"
      },
      "execution_count": null,
      "outputs": []
    },
    {
      "cell_type": "code",
      "source": [
        "stratified_train_set, stratified_test_set = train_test_split(dt, test_size=0.3, stratify=dt['income_category'] ,random_state=42)"
      ],
      "metadata": {
        "id": "WtyRsl2tZzNl"
      },
      "execution_count": null,
      "outputs": []
    },
    {
      "cell_type": "code",
      "source": [
        "stratified_test_set['income_category'].value_counts() / len(stratified_test_set)"
      ],
      "metadata": {
        "id": "ehzPxajjaTg3"
      },
      "execution_count": null,
      "outputs": []
    },
    {
      "cell_type": "code",
      "source": [
        "dt.plot(kind = 'scatter', x = 'longitude', y = 'latitude', grid = True)\n",
        "save_fig('Latitud vs Longitud')\n",
        "plt.show()"
      ],
      "metadata": {
        "id": "Vv_Ya-TqbQif"
      },
      "execution_count": null,
      "outputs": []
    },
    {
      "cell_type": "code",
      "source": [
        "dt.plot(kind = 'scatter', x = 'longitude', y = 'latitude', grid = True, alpha = 0.3)\n",
        "save_fig('Latitud vs Longitud con alpha')\n",
        "plt.show()"
      ],
      "metadata": {
        "id": "UQmLI66tb190"
      },
      "execution_count": null,
      "outputs": []
    },
    {
      "cell_type": "code",
      "source": [
        "dt.plot(kind = 'scatter', x = 'longitude', y = 'latitude', grid = True, s = dt['population']/100, label = 'population', c = 'median_house_value', cmap = 'jet', colorbar = True)\n",
        "save_fig('Latitud vs Longitud con mapa de calor')\n",
        "plt.show()"
      ],
      "metadata": {
        "id": "bfxAqdnNcVL5"
      },
      "execution_count": null,
      "outputs": []
    },
    {
      "cell_type": "markdown",
      "source": [
        "## Clase 3"
      ],
      "metadata": {
        "id": "2uDM5s6Zk8KW"
      }
    },
    {
      "cell_type": "markdown",
      "source": [
        "### Buscando correlaciones"
      ],
      "metadata": {
        "id": "wsWy1iF4mQ3h"
      }
    },
    {
      "cell_type": "code",
      "source": [
        "corr_matrix = dt.corr(numeric_only=True)\n",
        "corr_matrix"
      ],
      "metadata": {
        "id": "tRajhiJrk-t-"
      },
      "execution_count": null,
      "outputs": []
    },
    {
      "cell_type": "code",
      "source": [
        "corr_matrix['median_house_value'].sort_values(ascending = False)"
      ],
      "metadata": {
        "id": "2R-FVwxamn40"
      },
      "execution_count": null,
      "outputs": []
    },
    {
      "cell_type": "code",
      "source": [
        "atributes = ['median_house_value', 'median_income', 'total_rooms',\n",
        "             'housing_median_age']\n",
        "\n",
        "scatter_matrix(dt[atributes], figsize=(10,10))\n",
        "plt.show()"
      ],
      "metadata": {
        "id": "7GpeY0OJoeL_"
      },
      "execution_count": null,
      "outputs": []
    },
    {
      "cell_type": "code",
      "source": [
        "dt.plot(kind = 'scatter', x = 'median_income', y = 'median_house_value',\n",
        "        alpha = 0.2, grid = True)\n",
        "plt.show()"
      ],
      "metadata": {
        "id": "ISYsNNPsqmTW"
      },
      "execution_count": null,
      "outputs": []
    },
    {
      "cell_type": "code",
      "source": [
        "dt['rooms_per_house'] = dt['total_rooms'] / dt['households']\n",
        "print(dt['rooms_per_house'].head())\n",
        "dt['bedrooms'] = dt['total_bedrooms'] / dt['total_rooms']\n",
        "print(dt['bedrooms'].head())"
      ],
      "metadata": {
        "id": "6aqw9o1xsWM9"
      },
      "execution_count": null,
      "outputs": []
    },
    {
      "cell_type": "code",
      "source": [
        "dt['people_per_house'] = dt['population'] / dt['households']\n",
        "dt['people_per_house'].head()"
      ],
      "metadata": {
        "id": "2zxHeZ0JtmdX"
      },
      "execution_count": null,
      "outputs": []
    },
    {
      "cell_type": "code",
      "source": [
        "atributes = ['median_house_value', 'median_income', 'bedrooms',\n",
        "             'people_per_house', 'rooms_per_house']\n",
        "\n",
        "scatter_matrix(dt[atributes], figsize=(10,10))\n",
        "plt.show()"
      ],
      "metadata": {
        "id": "1M1dBfbGt0nU"
      },
      "execution_count": null,
      "outputs": []
    },
    {
      "cell_type": "code",
      "source": [
        "corr_matrix2 = dt.corr(numeric_only=True)\n",
        "corr_matrix2"
      ],
      "metadata": {
        "id": "kPD3xLBduo7p"
      },
      "execution_count": null,
      "outputs": []
    },
    {
      "cell_type": "code",
      "source": [
        "corr_matrix2['median_house_value'].sort_values(ascending = False)"
      ],
      "metadata": {
        "id": "5OPLe4C8uwLa"
      },
      "execution_count": null,
      "outputs": []
    },
    {
      "cell_type": "markdown",
      "source": [
        "#### Conclusión de correlaciones"
      ],
      "metadata": {
        "id": "dpdgV2Ggvjiy"
      }
    },
    {
      "cell_type": "markdown",
      "source": [
        "1. **Correlaciones Positivas Fuertes**:\n",
        "   - **Ingreso Mediano**: Tiene una correlación positiva fuerte de 0.688075 con el valor mediano de la vivienda. Esto sugiere que a medida que aumenta el ingreso mediano, tiende a aumentar también el valor mediano de la vivienda.\n",
        "   - **Habitaciones por Casa**: Muestra una correlación positiva moderada de 0.151948 con el valor mediano de la vivienda. Esto indica que a medida que aumenta el número de habitaciones por hogar, tiende a aumentar también el valor mediano de la vivienda.\n",
        "   - **Total de Habitaciones** y **Edad Mediana de la Vivienda**: Ambos tienen correlaciones positivas más débiles con el valor mediano de la vivienda, lo que indica menos influencia en comparación con el ingreso mediano y las habitaciones por casa.\n",
        "\n",
        "2. **Correlaciones Negativas Débiles**:\n",
        "   - **Dormitorios** y **Personas por Casa**: Ambos muestran correlaciones negativas débiles con el valor mediano de la vivienda. Esto implica que a medida que aumenta la proporción de dormitorios en una casa o el número de personas por casa, tiende a disminuir ligeramente el valor mediano de la vivienda.\n",
        "\n",
        "Basándonos en este análisis, podrías inferir que factores como el ingreso y el número de habitaciones por casa tienen una influencia más fuerte en el valor mediano de la vivienda en comparación con factores como la latitud o el número de dormitorios."
      ],
      "metadata": {
        "id": "brCYvyaivOJC"
      }
    },
    {
      "cell_type": "markdown",
      "source": [
        "## Clase 4"
      ],
      "metadata": {
        "id": "9rqTlzTWTWxc"
      }
    },
    {
      "cell_type": "markdown",
      "source": [
        "### Preprocesamiento de datos faltantes\n"
      ],
      "metadata": {
        "id": "O9WAb26Xvmok"
      }
    },
    {
      "cell_type": "markdown",
      "source": [
        "\n",
        "```\n",
        "dt2.dropna(subnet = ['total_bedrooms'], inplace = True)\n",
        "\n",
        "dt2.drop('total_bedrooms', axis = 1)\n",
        "\n",
        "media_data = dt2['total_bedrooms'].median()\n",
        "\n",
        "dt2['total_bedrooms'].fillna(media_data, inplace = True)\n",
        "\n",
        "```"
      ],
      "metadata": {
        "id": "rkgpvsK5TT2U"
      }
    },
    {
      "cell_type": "code",
      "source": [
        "dt2 = stratified_train_set.drop('median_house_value', axis = 1)\n",
        "dt2_labels = stratified_train_set['median_house_value'].copy()"
      ],
      "metadata": {
        "id": "cZvg2YsqvUmR"
      },
      "execution_count": null,
      "outputs": []
    },
    {
      "cell_type": "code",
      "source": [
        "null_rows_idx = dt2.isnull().any(axis = 1)\n",
        "dt2.loc[null_rows_idx]"
      ],
      "metadata": {
        "id": "riQAwyu0xN7V"
      },
      "execution_count": null,
      "outputs": []
    },
    {
      "cell_type": "code",
      "source": [
        "datadropna = dt2.copy()\n",
        "datadropna.dropna(subset=[\"total_bedrooms\"], inplace=True)\n",
        "datadropna.loc[null_rows_idx]"
      ],
      "metadata": {
        "id": "8aBZngZkyoHr"
      },
      "execution_count": null,
      "outputs": []
    },
    {
      "cell_type": "code",
      "source": [
        "datadropna.info()"
      ],
      "metadata": {
        "id": "XrWF6lbfK-BW"
      },
      "execution_count": null,
      "outputs": []
    },
    {
      "cell_type": "code",
      "source": [
        "datadrop = dt2.copy()\n",
        "datadrop.drop(\"total_bedrooms\", axis=1, inplace=True)\n",
        "datadrop.loc[null_rows_idx]"
      ],
      "metadata": {
        "id": "CJlBFYlOy9MK"
      },
      "execution_count": null,
      "outputs": []
    },
    {
      "cell_type": "code",
      "source": [
        "datadrop.info()"
      ],
      "metadata": {
        "id": "l_PRVN8ELIv-"
      },
      "execution_count": null,
      "outputs": []
    },
    {
      "cell_type": "code",
      "source": [
        "datafill = dt2.copy()\n",
        "median_data = datafill[\"total_bedrooms\"].median()\n",
        "datafill[\"total_bedrooms\"].fillna(median_data, inplace=True)\n",
        "datafill.loc[null_rows_idx]"
      ],
      "metadata": {
        "id": "t9FJyBYnzj-I"
      },
      "execution_count": null,
      "outputs": []
    },
    {
      "cell_type": "code",
      "source": [
        "datafill.info()"
      ],
      "metadata": {
        "id": "tkQuRKnTLMT2"
      },
      "execution_count": null,
      "outputs": []
    },
    {
      "cell_type": "markdown",
      "source": [
        "### Uso de sklearn"
      ],
      "metadata": {
        "id": "v6sEVOu4iqMX"
      }
    },
    {
      "cell_type": "code",
      "source": [
        "imputer = SimpleImputer(strategy='median')\n",
        "imputer"
      ],
      "metadata": {
        "id": "SRCGQfT1i-h8"
      },
      "execution_count": null,
      "outputs": []
    },
    {
      "cell_type": "code",
      "source": [
        "dt_num = dt2.select_dtypes(include = [np.number])\n",
        "dt_num"
      ],
      "metadata": {
        "id": "jgFk0pxVjIQc"
      },
      "execution_count": null,
      "outputs": []
    },
    {
      "cell_type": "code",
      "source": [
        "imputer.fit(dt_num) #Imputador esta entrenado"
      ],
      "metadata": {
        "id": "YxjMcL22jkJa"
      },
      "execution_count": null,
      "outputs": []
    },
    {
      "cell_type": "code",
      "source": [
        "imputer.statistics_"
      ],
      "metadata": {
        "id": "ttLLMCQNjtni"
      },
      "execution_count": null,
      "outputs": []
    },
    {
      "cell_type": "code",
      "source": [
        "dt_num.median().values"
      ],
      "metadata": {
        "id": "_UqSsI46j89R"
      },
      "execution_count": null,
      "outputs": []
    },
    {
      "cell_type": "code",
      "source": [
        "X = imputer.transform(dt_num)\n",
        "X"
      ],
      "metadata": {
        "id": "fNBpZHm7kTyB"
      },
      "execution_count": null,
      "outputs": []
    },
    {
      "cell_type": "code",
      "source": [
        "imputer.feature_names_in_"
      ],
      "metadata": {
        "id": "pQ_TySp0kuDJ"
      },
      "execution_count": null,
      "outputs": []
    },
    {
      "cell_type": "code",
      "source": [
        "df = pd.DataFrame(X, columns=dt_num.columns,\n",
        "                  index = dt_num.index)\n",
        "\n",
        "df"
      ],
      "metadata": {
        "id": "4c78WxBYk7ER"
      },
      "execution_count": null,
      "outputs": []
    },
    {
      "cell_type": "code",
      "source": [
        "df.loc[null_rows_idx]"
      ],
      "metadata": {
        "id": "0NvFw8K_lhXa"
      },
      "execution_count": null,
      "outputs": []
    },
    {
      "cell_type": "code",
      "source": [
        "imputer.strategy"
      ],
      "metadata": {
        "id": "ME-uYQuVlnfx"
      },
      "execution_count": null,
      "outputs": []
    },
    {
      "cell_type": "markdown",
      "source": [
        "### Procesamiento de datos categóricos"
      ],
      "metadata": {
        "id": "hJXQBDvHl-l6"
      }
    },
    {
      "cell_type": "code",
      "source": [
        "dt_cat = dt2[['ocean_proximity']]\n",
        "dt_cat.head(12)"
      ],
      "metadata": {
        "id": "EcJwa9-Kl9pR"
      },
      "execution_count": null,
      "outputs": []
    },
    {
      "cell_type": "code",
      "source": [
        "ordinal_en = OrdinalEncoder()\n",
        "dt_cat_oe = ordinal_en.fit_transform(dt_cat)\n",
        "dt_cat_oe"
      ],
      "metadata": {
        "id": "1iz4M1iWmrGx"
      },
      "execution_count": null,
      "outputs": []
    },
    {
      "cell_type": "code",
      "source": [
        "ordinal_en.categories_"
      ],
      "metadata": {
        "id": "zNYxeFDVnTVx"
      },
      "execution_count": null,
      "outputs": []
    },
    {
      "cell_type": "code",
      "source": [
        "dt_cat_oe[:12]"
      ],
      "metadata": {
        "id": "x5O0BhZtnAKR"
      },
      "execution_count": null,
      "outputs": []
    },
    {
      "cell_type": "code",
      "source": [
        "onehot_en = OneHotEncoder()\n",
        "dt_cat_ohe = onehot_en.fit_transform(dt_cat)\n",
        "dt_cat_ohe"
      ],
      "metadata": {
        "id": "Xs_wUfslnfXf"
      },
      "execution_count": null,
      "outputs": []
    },
    {
      "cell_type": "code",
      "source": [
        "dt_cat_ohe.toarray()"
      ],
      "metadata": {
        "id": "rk1OTxN2oCrw"
      },
      "execution_count": null,
      "outputs": []
    },
    {
      "cell_type": "markdown",
      "source": [
        "### Conclusiones"
      ],
      "metadata": {
        "id": "rQuyHA4Tpckh"
      }
    },
    {
      "cell_type": "markdown",
      "source": [
        "#### Númericas\n",
        "\n"
      ],
      "metadata": {
        "id": "jvs4kKnvcOEz"
      }
    },
    {
      "cell_type": "markdown",
      "source": [
        "- **Dropna:** Primero, se eliminan las filas que contienen valores faltantes en 'total_bedrooms'. Esta estrategia es problemática ya que el dataset no es muy grande y hay una cantidad significativa de filas afectadas,esto resulta en la pérdida de una parte considerable de los datos.\n",
        "\n",
        "- **Drop:** Una alternativa menos destructiva implica eliminar la columna 'total_bedrooms' por completo. Sin embargo, esta acción suprime información relevante que podría ser valiosa para el análisis posterior. Por lo tanto, esta opción puede ser adecuada solo si 'total_bedrooms' no es esencial para los objetivos de análisis, y en este caso la afirmación anterior es falsa.\n",
        "\n",
        "- **Fillna:** Otra estrategia consiste en rellenar los valores faltantes con la mediana de la columna 'total_bedrooms'. Esto conserva todas las filas en el conjunto de datos mientras se utiliza un valor estadístico representativo para los datos faltantes. Sin embargo, es importante considerar si la mediana es la medida adecuada, especialmente si hay valores atípicos en los datos.\n",
        "\n",
        "En conclusión, la estrategia menos destructiva implica usar el fillna para rellenar los valores faltantes con la mediana de 'total_bedrooms'. Esto preserva la mayor cantidad de información posible mientras se mitiga el impacto de los valores faltantes en el análisis de datos."
      ],
      "metadata": {
        "id": "M_m8_mr7r7wW"
      }
    },
    {
      "cell_type": "markdown",
      "source": [
        "El uso del imputer (rellenador de valores faltantes) es esencial para manejar los datos faltantes en un conjunto de datos. En este caso, se utilizó el SimpleImputer con la estrategia de 'median' para rellenar los valores faltantes en las características numéricas del conjunto de datos. El estado inicial de los datos contenía valores faltantes en 'total bedrooms', lo que podría haber afectado la calidad y la eficacia de los análisis y modelos subsiguientes. Al entrenar el imputer con las características numéricas y luego aplicarlo para transformar el conjunto de datos, se rellenaron los valores faltantes utilizando la mediana de la característica.\n",
        "\n",
        "Después de aplicar el imputer, el estado final de los datos, muestra que ya no hay valores faltantes en las características numéricas. Se han rellenado los valores faltantes con la mediana correspondiente, lo que garantiza que todas las características tengan valores válidos para su posterior análisis y modelado. Esto es crucial para mantener la integridad de los datos y garantizar la precisión y la confiabilidad de cualquier análisis o modelo construido sobre ellos."
      ],
      "metadata": {
        "id": "W-glYFTJrmPv"
      }
    },
    {
      "cell_type": "markdown",
      "source": [
        "#### Categóricas\n",
        "\n"
      ],
      "metadata": {
        "id": "4Gc8JY3ApfQI"
      }
    },
    {
      "cell_type": "markdown",
      "source": [
        "- La aplicación de la codificación ordinal y la codificación one-hot ha tenido un impacto significativo en la representación de los datos. Con la codificación ordinal, se asignan valores numéricos a las categorías de la columna 'ocean_proximity', manteniendo así el orden relativo entre ellas. Este enfoque es útil cuando existe una jerarquía natural entre las categorías, como en el caso de datos ordinales.\n",
        "\n",
        "    Después de aplicar la codificación ordinal a la columna 'ocean_proximity', los datos quedan representados por valores numéricos asignados a cada categoría. Por ejemplo, si las categorías son '<1H OCEAN', 'INLAND', 'NEAR BAY', 'NEAR OCEAN', y 'ISLAND', podrían ser asignadas a valores numéricos como 0, 1, 2, 3 y 4 respectivamente, de acuerdo con el orden establecido por la codificación ordinal. Esto crea una representación lineal de las categorías, lo que puede ser útil si existe una relación ordinal natural entre ellas.\n",
        "\n",
        "- Por otro lado, la codificación one-hot ha generado una representación binaria de las categorías, creando columnas separadas para cada categoría y asignando un valor de 1 en la columna correspondiente a la categoría presente en cada fila, mientras que todas las demás columnas contienen valores de 0. Aunque esto aumenta la dimensionalidad de los datos, evita la suposición de un orden entre las categorías y es particularmente útil cuando no existe una jerarquía entre las categorías, como en datos nominales.\n",
        "\n",
        "    Después de aplicar la codificación one-hot, los datos se transforman en un conjunto de columnas binarias. Cada columna representa una categoría única de la columna original 'ocean_proximity'.  Esta representación crea una matriz dispersa, donde la mayoría de los elementos son 0, lo que puede aumentar la dimensionalidad de los datos pero también permite que los modelos de aprendizaje automático no asuman ningún orden entre las categorías."
      ],
      "metadata": {
        "id": "5IxcHcpEr-1_"
      }
    }
  ]
}
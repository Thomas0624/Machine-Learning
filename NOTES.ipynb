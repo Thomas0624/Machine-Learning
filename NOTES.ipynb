{
 "cells": [
  {
   "cell_type": "markdown",
   "metadata": {},
   "source": [
    "# CLASE 1: Introducion al Machine Learning"
   ]
  },
  {
   "cell_type": "markdown",
   "metadata": {},
   "source": [
    "__Programacion Clasica:__\n",
    " - if (regla)\n",
    " 1. Estudia el problema\n",
    " 2. Se escriben las reglas\n",
    " 3. Evalua\n",
    " 4. Analisa errores\n",
    " 5. Launch\n",
    "\n",
    "__Programación ML:__\n",
    " - La programacion ML existen 3 caracteristicas importantes:\n",
    "    1. E: Es la experiencia que tiene el algoritmo (Sistema experto -> Heuristica) \n",
    "    2. T: Es la tarea a cumplir del algoritmo\n",
    "    3. P: Es el rendimiento/desempeño del algoritmo, busqueda de patrones para predecir\n",
    " - Inicio con las pruebas ORC y los primeros casos de exito fueron la detección de SPAM(HAM) \n",
    " - Funcionamiento:\n",
    "    1. Estudia el problema\n",
    "    2. Entrenamiento del modelo (Aqui entran los datos)\n",
    "    3. Evaluacion -> 5., ->4. (Pasa al proceso de analisis y se vuelve a evaluar hasta que esta bien)\n",
    "    4. Analisa errores \n",
    "    5. Launch\n",
    " - Necesita:\n",
    "    1. Conjunto de entrenamiento\n",
    "    2. Modelo (Parte de un sistema de AA que aprende y predice)\n",
    "    3. Instancia de entrenamiento o muestra"
   ]
  },
  {
   "cell_type": "markdown",
   "metadata": {},
   "source": [
    "# CLASE 2: "
   ]
  },
  {
   "cell_type": "markdown",
   "metadata": {},
   "source": [
    "__Conjunto de datos:__\n",
    "- Datos almacenados en un formato, usados para entrenar\n",
    "- Tipos de datos:\n",
    "    1. Estructurados: Se pueden representar en un tipo de dato o alguna forma (CSV, JSON)\n",
    "        - dato: El formato JSON es el mas trabajado porque permite trabajar con cualquier tipo de dato\n",
    "    2. No Estructurados: No se pueden representar ( IMG, AUDIO, VIDEO, EMAIL)\n",
    "- Variable descriptiva: Elementos que describen las instancias almacenadas en un conjunto de datos\n",
    "- Variable destino o etiqueta: Caracteristica usada para etiquetar( se usa para la prediccion)\n",
    "- Tipos de datos: Define un valor que tomar (Numerico, categoricos, ordinales)\n",
    "\n",
    "\n"
   ]
  },
  {
   "cell_type": "markdown",
   "metadata": {},
   "source": [
    "# CLASE 3: Tipos de ML"
   ]
  },
  {
   "cell_type": "markdown",
   "metadata": {},
   "source": [
    "__Aprendizaje Supervisado:__\n",
    "- Todos los datos de entrenamiento vienen etiquetados\n",
    "- Tipos de algoritmo:\n",
    "    - Clasificación: Es discreta\n",
    "    ![Clasificación](https://www.freecodecamp.org/news/content/images/2023/09/image-90.png)\n",
    "    - Regresion: Es continua, se usa para predecir\n",
    "    ![Regresión](https://upload.wikimedia.org/wikipedia/commons/b/be/Normdist_regression.png)\n",
    "\n",
    "__Aprendizaje no Supervisado:__\n",
    "- Los datos no estan etiquetados y comienza a comparar caracteristicas directamente sobre los datos de entrada y busca relaciones entre ellos\n",
    "![Regresión](https://bookdown.org/keilor_rojas/CienciaDatos/kmeans.png)\n",
    "\n",
    "__Algoritmo de reducción de dimensiones:__\n",
    "- La idea es simplificar los datos sin perder demasiada informacion. La idea es fusionar varias funciones correlacionas en una.\n",
    "- Solo si existe correlación entre el set de datos\n",
    "\n",
    "__Aprendizaje Semisupervisado:__\n",
    "- Utiliza datos etiquetados y no etiquetados.\n",
    "- el algoritmo le va agregando etiquetas a los datos no etiquetados.\n",
    "![Regresión](https://iadelta.com/wp-content/uploads/2020/09/Aprendizaje-semi-supervisado-ejemplo-1024x453.png)\n",
    "\n",
    "__Aprendizaje reforzado:__\n",
    "- Prueba y error (Se utiliza mayormente en robotica).\n",
    "- Cada vez que logra una predicción se da recompensa de lo contrario se penaliza.\n",
    "\n",
    "\n"
   ]
  },
  {
   "cell_type": "markdown",
   "metadata": {},
   "source": [
    "# CLASE 4: Tipos de Aprendizaje\n"
   ]
  },
  {
   "cell_type": "markdown",
   "metadata": {},
   "source": [
    "\n",
    "__Aprendizaje Autosupervisado:__\n",
    " - Este enfoque de AA implica generar un conjunto de datos completamente etiquetados a partir de uno sin etiquetar\n",
    "    - Generacion de canciones (Terminar una cancion)\n",
    "    - Reconstruccion de imagenes\n",
    "\n",
    "__Aprendizaje por lotes:__\n",
    " - El sistema es incapaz de aprender de forma incremental. Debe entrenarse utilizando todos los datos disponibles. Por lo general, esto requiere muchos recursos, por lo que normalmente se realiza sin conexión. (Aprende una vez y no lo vuelve a hacer) \n",
    "   1. Se entrena el sistema\n",
    "   2. Se lanza la producción\n",
    "   3. Se ejecuta sin aprender mas\n",
    "\n",
    " - Incremental: Puede entrenar con nuevos datos luego de haber sido entrenado (Sin necesidad de recibir los datos anteriores)\n",
    " - No incremental: Al momento de re-entrenar se requieren los datos anteriores y los nuevos datos (Requiere mas procesamiento en RAM y CACHE)\n",
    " - Usos:\n",
    "   - EDGE COMPUTING\n",
    "\n",
    "__Aprendizaje en línea:__\n",
    " - El sistema se entrena de forma incremental alimentandolo con instancias de forma secuencial, ya sea individualmente o en pequeños grupos llamados\n",
    " minilotes. \n",
    " - Un modelo se entrena y se lanza a producción y luego sigue aprendiendo a medida que llegan nuevos datos\n",
    " - Estos algoritmos son usados para entrener grandes conjuntos de datos que no caben la memoria principal\n",
    " - El algoritmo carga parte de los datos, ejecuta un paso de entrenamiento con esos datos y repite el proceso hasta que se ejecuta con todos los datos\n",
    " - Tasa de aprendizaje: Rapidez con la que deben adaptarse a los datos cambianes\n",
    "\n",
    "__Aprendizaje de nucleo:__\n",
    " - Cuando se cargan todos los datos en la memoria principal.\n",
    "\n",
    "__Aprendizaje basado en instancias:__\n",
    " - El sistema aprende de ejemplos de memoria y luego los generaliza a nuevos casos utilizando una medida de similitud para compararlos con los ejemplos aprendidos.\n",
    "\n",
    "__Aprendizaje basado en modelos:__\n",
    " - Otra forma de generalizar a partir de un conjunto de ejemplos es crear un modelo a partir de estos ejemplos y luego utilizar ese modelo para hacer predicciones.\n",
    " "
   ]
  },
  {
   "cell_type": "markdown",
   "metadata": {},
   "source": []
  },
  {
   "cell_type": "markdown",
   "metadata": {},
   "source": [
    "# CLASE 5: "
   ]
  },
  {
   "cell_type": "markdown",
   "metadata": {},
   "source": [
    "__Ciclo de vida de un proyecto:__\n",
    "1. Preprocesamiento de datos:\n",
    "  * Se queda en un ciclo hasta que los datos esten estandarizado, limpios, etc. hasta que los datos esten listos\n",
    "2. Aplicar el algoritmo: \n",
    "  * Se empieza a iterar hasta que se encuentre el mejor model\n",
    "3. Eleccion del modelo"
   ]
  },
  {
   "cell_type": "markdown",
   "metadata": {},
   "source": [
    "## Caso de estudio:\n",
    "Bienvenido a machine learning housing corporation. su primera tarea es utilizar los datos del censo de California para construir un modelo de precios de vivienda en el estado.\n",
    "\n",
    "Este set de datos incluye metricas como: población, ingreso medio y el precio medio de vivienda para grupo de bloques.\n",
    "\n",
    "Grupo de bloques(distrito): Unidad geográfica más pequeña. Un grupo de bloques tiene una población entre 600 a 3000 personas\n",
    "\n",
    "Como ingeniero de IA deberá contruir un modelo que aprenda de estos daos y tenga la capacidad de predecir el precio medio de la vivienda en cualquier distritto\n",
    "\n",
    "\n",
    "1. Preguntas:\n",
    "    * Objetivo\n",
    "    * etc\n",
    "\n",
    "2. Tipo de supervision: Supervisado\n",
    "    * Supervisado:\n",
    "    * No supervisado\n",
    "    * Refuerzo\n",
    "\n",
    "3. Clasificacion o regresion: regresion\n",
    "4. On-line o Batch: Batch porque los datos cambian cada año\n",
    "    * On-line: Se autoentrena\n",
    "    * Batch: Aprende una vez\n",
    "\n",
    "5. Tipo de regresion:\n",
    "    * Es multivariable?\n",
    "    * Es multivariante?\n",
    "    * .....\n",
    "6. Medida de desempeño:\n",
    "    * RMSE\n",
    "    * MAE\n",
    "    "
   ]
  }
 ],
 "metadata": {
  "language_info": {
   "name": "python"
  }
 },
 "nbformat": 4,
 "nbformat_minor": 2
}
